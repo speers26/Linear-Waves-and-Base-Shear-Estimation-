{
 "cells": [
  {
   "cell_type": "code",
   "execution_count": 35,
   "metadata": {},
   "outputs": [],
   "source": [
    "import numpy as np\n",
    "import pandas as pd\n",
    "from wavesim.loading import LoadDistEst\n",
    "import matplotlib.pyplot as plt"
   ]
  },
  {
   "cell_type": "code",
   "execution_count": 36,
   "metadata": {},
   "outputs": [],
   "source": [
    "env_probs = pd.read_csv('env_probs.csv')\n",
    "results = np.genfromtxt('results.csv', delimiter=',')"
   ]
  },
  {
   "cell_type": "code",
   "execution_count": 37,
   "metadata": {},
   "outputs": [
    {
     "data": {
      "text/html": [
       "<div>\n",
       "<style scoped>\n",
       "    .dataframe tbody tr th:only-of-type {\n",
       "        vertical-align: middle;\n",
       "    }\n",
       "\n",
       "    .dataframe tbody tr th {\n",
       "        vertical-align: top;\n",
       "    }\n",
       "\n",
       "    .dataframe thead th {\n",
       "        text-align: right;\n",
       "    }\n",
       "</style>\n",
       "<table border=\"1\" class=\"dataframe\">\n",
       "  <thead>\n",
       "    <tr style=\"text-align: right;\">\n",
       "      <th></th>\n",
       "      <th>hs</th>\n",
       "      <th>s2</th>\n",
       "      <th>p</th>\n",
       "      <th>dens</th>\n",
       "    </tr>\n",
       "  </thead>\n",
       "  <tbody>\n",
       "    <tr>\n",
       "      <th>0</th>\n",
       "      <td>1.918986</td>\n",
       "      <td>0.016357</td>\n",
       "      <td>2.565695e-03</td>\n",
       "      <td>6.803969e-01</td>\n",
       "    </tr>\n",
       "    <tr>\n",
       "      <th>1</th>\n",
       "      <td>2.870885</td>\n",
       "      <td>0.016357</td>\n",
       "      <td>2.138079e-03</td>\n",
       "      <td>5.669974e-01</td>\n",
       "    </tr>\n",
       "    <tr>\n",
       "      <th>4</th>\n",
       "      <td>5.726581</td>\n",
       "      <td>0.016357</td>\n",
       "      <td>4.276159e-04</td>\n",
       "      <td>1.133995e-01</td>\n",
       "    </tr>\n",
       "    <tr>\n",
       "      <th>9</th>\n",
       "      <td>1.918986</td>\n",
       "      <td>0.020319</td>\n",
       "      <td>2.993311e-03</td>\n",
       "      <td>7.937964e-01</td>\n",
       "    </tr>\n",
       "    <tr>\n",
       "      <th>10</th>\n",
       "      <td>2.870885</td>\n",
       "      <td>0.020319</td>\n",
       "      <td>3.848543e-03</td>\n",
       "      <td>1.020595e+00</td>\n",
       "    </tr>\n",
       "    <tr>\n",
       "      <th>...</th>\n",
       "      <td>...</td>\n",
       "      <td>...</td>\n",
       "      <td>...</td>\n",
       "      <td>...</td>\n",
       "    </tr>\n",
       "    <tr>\n",
       "      <th>445</th>\n",
       "      <td>25.716456</td>\n",
       "      <td>0.071817</td>\n",
       "      <td>4.743535e-09</td>\n",
       "      <td>1.257938e-06</td>\n",
       "    </tr>\n",
       "    <tr>\n",
       "      <th>446</th>\n",
       "      <td>26.668354</td>\n",
       "      <td>0.071817</td>\n",
       "      <td>2.563720e-09</td>\n",
       "      <td>6.798730e-07</td>\n",
       "    </tr>\n",
       "    <tr>\n",
       "      <th>447</th>\n",
       "      <td>27.620253</td>\n",
       "      <td>0.071817</td>\n",
       "      <td>1.297656e-09</td>\n",
       "      <td>3.441254e-07</td>\n",
       "    </tr>\n",
       "    <tr>\n",
       "      <th>448</th>\n",
       "      <td>28.572152</td>\n",
       "      <td>0.071817</td>\n",
       "      <td>6.433694e-10</td>\n",
       "      <td>1.706152e-07</td>\n",
       "    </tr>\n",
       "    <tr>\n",
       "      <th>449</th>\n",
       "      <td>29.524051</td>\n",
       "      <td>0.071817</td>\n",
       "      <td>2.809713e-10</td>\n",
       "      <td>7.451080e-08</td>\n",
       "    </tr>\n",
       "  </tbody>\n",
       "</table>\n",
       "<p>363 rows × 4 columns</p>\n",
       "</div>"
      ],
      "text/plain": [
       "            hs        s2             p          dens\n",
       "0     1.918986  0.016357  2.565695e-03  6.803969e-01\n",
       "1     2.870885  0.016357  2.138079e-03  5.669974e-01\n",
       "4     5.726581  0.016357  4.276159e-04  1.133995e-01\n",
       "9     1.918986  0.020319  2.993311e-03  7.937964e-01\n",
       "10    2.870885  0.020319  3.848543e-03  1.020595e+00\n",
       "..         ...       ...           ...           ...\n",
       "445  25.716456  0.071817  4.743535e-09  1.257938e-06\n",
       "446  26.668354  0.071817  2.563720e-09  6.798730e-07\n",
       "447  27.620253  0.071817  1.297656e-09  3.441254e-07\n",
       "448  28.572152  0.071817  6.433694e-10  1.706152e-07\n",
       "449  29.524051  0.071817  2.809713e-10  7.451080e-08\n",
       "\n",
       "[363 rows x 4 columns]"
      ]
     },
     "execution_count": 37,
     "metadata": {},
     "output_type": "execute_result"
    }
   ],
   "source": [
    "env_probs[env_probs.p != 0]"
   ]
  },
  {
   "cell_type": "code",
   "execution_count": 38,
   "metadata": {},
   "outputs": [],
   "source": [
    "p_array = np.array(env_probs['p'])\n",
    "f_cdf = np.sum(results * p_array[:, np.newaxis], axis=0)"
   ]
  },
  {
   "cell_type": "code",
   "execution_count": 39,
   "metadata": {},
   "outputs": [],
   "source": [
    "x_num = 100\n",
    "X = np.linspace(0, 2, num=x_num)"
   ]
  },
  {
   "cell_type": "code",
   "execution_count": 40,
   "metadata": {},
   "outputs": [
    {
     "data": {
      "image/png": "[encoded data removed]",
      "text/plain": [
       "<Figure size 640x480 with 2 Axes>"
      ]
     },
     "metadata": {},
     "output_type": "display_data"
    }
   ],
   "source": [
    "plt.figure()\n",
    "plt.subplot(2, 1, 1)\n",
    "plt.plot(X, f_cdf)\n",
    "plt.subplot(2, 1, 2)\n",
    "plt.plot(X, np.log10(1-f_cdf))\n",
    "plt.show()"
   ]
  },
  {
   "cell_type": "code",
   "execution_count": 41,
   "metadata": {},
   "outputs": [
    {
     "data": {
      "text/plain": [
       "array([0.        , 0.10058315, 0.25875311, 0.39576932, 0.41851984,\n",
       "       0.5137572 , 0.60002288, 0.67278406, 0.73023136, 0.78128423,\n",
       "       0.81570575, 0.82501123, 0.83075657, 0.84566687, 0.8687337 ,\n",
       "       0.89234724, 0.91252779, 0.92812635, 0.94271254, 0.95357218,\n",
       "       0.96302775, 0.97018403, 0.97529069, 0.97865951, 0.98037609,\n",
       "       0.98156772, 0.98289614, 0.98434788, 0.98603043, 0.98806266,\n",
       "       0.98993212, 0.99154037, 0.99303018, 0.99419192, 0.99509476,\n",
       "       0.9958833 , 0.99661128, 0.99717637, 0.99761584, 0.99794632,\n",
       "       0.99819669, 0.99840091, 0.99853775, 0.99864112, 0.9987223 ,\n",
       "       0.99881215, 0.99887868, 0.99895159, 0.99903555, 0.99912161,\n",
       "       0.99920964, 0.99928486, 0.99936433, 0.99943699, 0.99950015,\n",
       "       0.99955231, 0.99960182, 0.99964772, 0.99969009, 0.99972908,\n",
       "       0.99976091, 0.99978677, 0.99980802, 0.99982707, 0.99984372,\n",
       "       0.99985712, 0.99986947, 0.99987954, 0.99988726, 0.99989389,\n",
       "       0.99989971, 0.9999051 , 0.9999105 , 0.99991561, 0.99992063,\n",
       "       0.99992533, 0.99993014, 0.99993496, 0.99993971, 0.99994392,\n",
       "       0.99994857, 0.99995259, 0.99995622, 0.99995994, 0.99996333,\n",
       "       0.99996657, 0.99996964, 0.99997234, 0.99997445, 0.99997644,\n",
       "       0.99997837, 0.99998036, 0.99998185, 0.99998326, 0.99998451,\n",
       "       0.99998551, 0.99998643, 0.99998732, 0.99998808, 0.99998877])"
      ]
     },
     "execution_count": 41,
     "metadata": {},
     "output_type": "execute_result"
    }
   ],
   "source": [
    "f_cdf"
   ]
  }
 ],
 "metadata": {
  "kernelspec": {
   "display_name": ".venv",
   "language": "python",
   "name": "python3"
  },
  "language_info": {
   "codemirror_mode": {
    "name": "ipython",
    "version": 3
   },
   "file_extension": ".py",
   "mimetype": "text/x-python",
   "name": "python",
   "nbconvert_exporter": "python",
   "pygments_lexer": "ipython3",
   "version": "3.10.6"
  },
  "orig_nbformat": 4
 },
 "nbformat": 4,
 "nbformat_minor": 2
}
